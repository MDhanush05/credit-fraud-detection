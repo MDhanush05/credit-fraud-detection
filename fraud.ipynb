import pandas as pd
import matplotlib.pyplot as plt
import seaborn as sns
from sklearn.preprocessing import StandardScaler
from sklearn.cluster import KMeans
from sklearn.ensemble import IsolationForest

# Use the uploaded file directly
file_name = "amt.csv"

# Read the file
df = pd.read_csv(file_name)
print(f"\nLoaded: {file_name}")

# Inspect data
print("First few rows:")
print(df.head())
print("\nInfo:")
print(df.info())

# Handle missing values
df = df.dropna()

# Convert date column if it exists
if 'trans_date' in df.columns:
    df['trans_date'] = pd.to_datetime(df['trans_date'], errors='coerce')

# Encode categorical features
df_encoded = pd.get_dummies(df, drop_first=True)

# Visualization: Total amount over time
if 'trans_date' in df.columns and 'amt' in df.columns:
    df.set_index('trans_date')['amt'].resample('M').sum().plot()
    plt.title("Monthly Transaction Volume")
    plt.ylabel("Total Amount")
    plt.xlabel("Date")
    plt.show()

# Clustering: Customer behavior profiling
if 'amt' in df.columns:
    X = df_encoded.select_dtypes(include='number')
    scaler = StandardScaler()
    X_scaled = scaler.fit_transform(X)

    kmeans = KMeans(n_clusters=3, random_state=42)
    df['cluster'] = kmeans.fit_predict(X_scaled)

    # Plot clusters
    sns.scatterplot(x=df['amt'], y=df['cluster'], hue=df['cluster'], palette="Set2")
    plt.title("Customer Clusters by Transaction Amount")
    plt.xlabel("Amount")
    plt.ylabel("Cluster")
    plt.show()

    # Fraud Detection using Isolation Forest
    iso = IsolationForest(contamination=0.01, random_state=42)
    df['is_fraud_pred'] = iso.fit_predict(X_scaled)
    df['is_fraud_pred'] = df['is_fraud_pred'].map({1: 0, -1: 1})  # 1 = Fraudulent

    print("\nPotential Fraudulent Transactions:")
    print(df[df['is_fraud_pred'] == 1])
else:
    print("Column 'amt' not found for clustering and fraud detection.")
